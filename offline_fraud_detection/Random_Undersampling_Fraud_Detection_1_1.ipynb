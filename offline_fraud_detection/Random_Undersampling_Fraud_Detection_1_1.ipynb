{
 "cells": [
  {
   "cell_type": "markdown",
   "metadata": {
    "id": "g0XU2i9mQS6Y"
   },
   "source": [
    "**Install Pyspark**"
   ]
  },
  {
   "cell_type": "code",
   "execution_count": null,
   "metadata": {
    "colab": {
     "base_uri": "https://localhost:8080/"
    },
    "id": "vYxuDfIrN_kZ",
    "outputId": "3ab8c8d4-6281-4c6e-a973-190e22a5a817"
   },
   "outputs": [
    {
     "name": "stdout",
     "output_type": "stream",
     "text": [
      "Collecting pyspark\n",
      "  Downloading pyspark-3.5.1.tar.gz (317.0 MB)\n",
      "\u001b[2K     \u001b[90m━━━━━━━━━━━━━━━━━━━━━━━━━━━━━━━━━━━━━━━━\u001b[0m \u001b[32m317.0/317.0 MB\u001b[0m \u001b[31m1.5 MB/s\u001b[0m eta \u001b[36m0:00:00\u001b[0m\n",
      "\u001b[?25h  Preparing metadata (setup.py) ... \u001b[?25l\u001b[?25hdone\n",
      "Requirement already satisfied: py4j==0.10.9.7 in /usr/local/lib/python3.10/dist-packages (from pyspark) (0.10.9.7)\n",
      "Building wheels for collected packages: pyspark\n",
      "  Building wheel for pyspark (setup.py) ... \u001b[?25l\u001b[?25hdone\n",
      "  Created wheel for pyspark: filename=pyspark-3.5.1-py2.py3-none-any.whl size=317488491 sha256=a8f1b130524200713afb35ccf327f506784be7ffc2ff03f1bda2458ca2bec333\n",
      "  Stored in directory: /root/.cache/pip/wheels/80/1d/60/2c256ed38dddce2fdd93be545214a63e02fbd8d74fb0b7f3a6\n",
      "Successfully built pyspark\n",
      "Installing collected packages: pyspark\n",
      "Successfully installed pyspark-3.5.1\n"
     ]
    }
   ],
   "source": [
    "!pip install pyspark"
   ]
  },
  {
   "cell_type": "markdown",
   "metadata": {
    "id": "ACtcHhqwPfz6"
   },
   "source": [
    "**Import Library**"
   ]
  },
  {
   "cell_type": "code",
   "execution_count": 1,
   "metadata": {
    "id": "kbm0hpNWOnkQ"
   },
   "outputs": [
    {
     "name": "stderr",
     "output_type": "stream",
     "text": [
      "24/06/09 08:21:23 WARN Utils: Your hostname, Thais-Laptop.local resolves to a loopback address: 127.0.0.1; using 192.168.0.104 instead (on interface en0)\n",
      "24/06/09 08:21:23 WARN Utils: Set SPARK_LOCAL_IP if you need to bind to another address\n",
      "Setting default log level to \"WARN\".\n",
      "To adjust logging level use sc.setLogLevel(newLevel). For SparkR, use setLogLevel(newLevel).\n",
      "24/06/09 08:21:23 WARN NativeCodeLoader: Unable to load native-hadoop library for your platform... using builtin-java classes where applicable\n"
     ]
    }
   ],
   "source": [
    "import pyspark\n",
    "\n",
    "from pyspark.ml.classification import DecisionTreeClassifier, LogisticRegression, LinearSVC, NaiveBayes, RandomForestClassifier, GBTClassifier\n",
    "from pyspark.ml.linalg import Vectors\n",
    "\n",
    "\n",
    "from pyspark.ml.feature import VectorAssembler\n",
    "from pyspark.ml.feature import StringIndexer, VectorIndexer, StringIndexerModel, IndexToString\n",
    "from pyspark.ml.evaluation import BinaryClassificationEvaluator\n",
    "from pyspark.ml import Pipeline\n",
    "\n",
    "from pyspark.sql import SparkSession\n",
    "from pyspark.sql.functions import expr\n",
    "from pyspark.sql.functions import col\n",
    "from pyspark.sql.functions import rand\n",
    "\n",
    "from pyspark.ml.tuning import ParamGridBuilder, CrossValidator\n",
    "\n",
    "\n",
    "import numpy as np\n",
    "import pandas as pd\n",
    "\n",
    "import matplotlib.pyplot as plt\n",
    "import seaborn as sns\n",
    "import numpy as np\n",
    "%matplotlib inline\n",
    "\n",
    "from sklearn.metrics import accuracy_score, precision_score, recall_score, roc_auc_score, f1_score\n",
    "\n",
    "spark = SparkSession.builder \\\n",
    "    .appName(\"RandomUndersamplingFraudDetection\") \\\n",
    "    .config(\"spark.executor.memory\", \"6g\") \\\n",
    "    .config(\"spark.driver.memory\", \"6g\") \\\n",
    "    .config(\"spark.rpc.message.maxSize\", \"2047\") \\\n",
    "    .config(\"spark.driver.maxResultSize\", \"2g\") \\\n",
    "    .getOrCreate()"
   ]
  },
  {
   "cell_type": "markdown",
   "metadata": {
    "id": "y_roA_ZCWhnR"
   },
   "source": [
    "**Calculation confuse matrix**"
   ]
  },
  {
   "cell_type": "code",
   "execution_count": 2,
   "metadata": {
    "id": "Ha2tmQe_Wfup"
   },
   "outputs": [],
   "source": [
    "def confusion_matrix(predictions, label_col=\"isFraud\", prediction_col=\"prediction\"):\n",
    "    # Let's start by creating a DataFrame containing label and prediction\n",
    "    df_confusion = predictions.select(label_col, prediction_col)\n",
    "\n",
    "    # Now, let's crunch the numbers and compute the confusion matrix by grouping predictions by label and prediction\n",
    "    confusion_matrix = df_confusion.groupBy(label_col) \\\n",
    "        .pivot(prediction_col, [str(i) for i in range(2)]) \\\n",
    "        .count() \\\n",
    "        .na.fill(0)\n",
    "\n",
    "    # And finally, let's unveil the confusion matrix for all to see\n",
    "    confusion_matrix.show()"
   ]
  },
  {
   "cell_type": "markdown",
   "metadata": {
    "id": "g_jwywqsV6vh"
   },
   "source": [
    "**Evaluate model function**"
   ]
  },
  {
   "cell_type": "code",
   "execution_count": 3,
   "metadata": {
    "id": "jOSbKjHFV_2t"
   },
   "outputs": [],
   "source": [
    "def compute_metrics(predictions):\n",
    "     # Let's start by evaluating the model with BinaryClassificationEvaluator\n",
    "    evaluator = BinaryClassificationEvaluator(labelCol=\"isFraud\")\n",
    "\n",
    "    # First, let's check out the AUC-ROC\n",
    "    auc_roc = evaluator.evaluate(predictions, {evaluator.metricName: \"areaUnderROC\"})\n",
    "\n",
    "    # Extract values from the confusion matrix DataFrame\n",
    "    TP = predictions.filter((col('isFraud') == 1) & (col('prediction') == 1)).count()\n",
    "    TN = predictions.filter((col('isFraud') == 0) & (col('prediction') == 0)).count()\n",
    "    FP = predictions.filter((col('isFraud') == 0) & (col('prediction') == 1)).count()\n",
    "    FN = predictions.filter((col('isFraud') == 1) & (col('prediction') == 0)).count()\n",
    "\n",
    "    # Compute accuracy\n",
    "    accuracy = (TP + TN) / (TP + TN + FP + FN)\n",
    "\n",
    "    # Compute precision\n",
    "    precision = TP / (TP + FP)\n",
    "\n",
    "    # Compute recall\n",
    "    recall = TP / (TP + FN)\n",
    "\n",
    "    # Compute F1-score\n",
    "    f1_score = 2 * (precision * recall) / (precision + recall)\n",
    "\n",
    "    return auc_roc, accuracy, precision, recall, f1_score"
   ]
  },
  {
   "cell_type": "markdown",
   "metadata": {
    "id": "S83pzRhYVIf4"
   },
   "source": [
    "**Read data using pyspark**"
   ]
  },
  {
   "cell_type": "code",
   "execution_count": 4,
   "metadata": {
    "id": "2v8rk9PUVNf4"
   },
   "outputs": [
    {
     "name": "stderr",
     "output_type": "stream",
     "text": [
      "                                                                                \r"
     ]
    }
   ],
   "source": [
    "# Read data from csv file\n",
    "df = spark.read.csv(\"/Users/thainguyenvu/Downloads/PS_20174392719_1491204439457_log.csv\", header=True, inferSchema=True)"
   ]
  },
  {
   "cell_type": "code",
   "execution_count": 6,
   "metadata": {
    "colab": {
     "base_uri": "https://localhost:8080/"
    },
    "id": "J0KaKwpGWQN7",
    "outputId": "16a23cf4-8d24-47a9-b1b1-8058b713b80c"
   },
   "outputs": [
    {
     "name": "stdout",
     "output_type": "stream",
     "text": [
      "+----+--------+--------+-----------+-------------+--------------+-----------+--------------+--------------+-------+--------------+\n",
      "|step|    type|  amount|   nameOrig|oldbalanceOrg|newbalanceOrig|   nameDest|oldbalanceDest|newbalanceDest|isFraud|isFlaggedFraud|\n",
      "+----+--------+--------+-----------+-------------+--------------+-----------+--------------+--------------+-------+--------------+\n",
      "|   1| PAYMENT| 9839.64|C1231006815|     170136.0|     160296.36|M1979787155|           0.0|           0.0|      0|             0|\n",
      "|   1| PAYMENT| 1864.28|C1666544295|      21249.0|      19384.72|M2044282225|           0.0|           0.0|      0|             0|\n",
      "|   1|TRANSFER|   181.0|C1305486145|        181.0|           0.0| C553264065|           0.0|           0.0|      1|             0|\n",
      "|   1|CASH_OUT|   181.0| C840083671|        181.0|           0.0|  C38997010|       21182.0|           0.0|      1|             0|\n",
      "|   1| PAYMENT|11668.14|C2048537720|      41554.0|      29885.86|M1230701703|           0.0|           0.0|      0|             0|\n",
      "+----+--------+--------+-----------+-------------+--------------+-----------+--------------+--------------+-------+--------------+\n",
      "only showing top 5 rows\n",
      "\n"
     ]
    }
   ],
   "source": [
    "df.show(5)"
   ]
  },
  {
   "cell_type": "markdown",
   "metadata": {
    "id": "mD330rl1ged9"
   },
   "source": [
    "**Convert type string to numerical format**"
   ]
  },
  {
   "cell_type": "code",
   "execution_count": 7,
   "metadata": {
    "colab": {
     "base_uri": "https://localhost:8080/"
    },
    "id": "07WX2vf6Xd15",
    "outputId": "4506d241-3473-4ae1-a2ca-d9b9bf33f84c"
   },
   "outputs": [
    {
     "name": "stderr",
     "output_type": "stream",
     "text": [
      "\r",
      "[Stage 7:>                                                          (0 + 8) / 8]\r"
     ]
    },
    {
     "name": "stdout",
     "output_type": "stream",
     "text": [
      "+----+--------+--------+-----------+-------------+--------------+-----------+--------------+--------------+-------+--------------+----------+\n",
      "|step|    type|  amount|   nameOrig|oldbalanceOrg|newbalanceOrig|   nameDest|oldbalanceDest|newbalanceDest|isFraud|isFlaggedFraud|type_index|\n",
      "+----+--------+--------+-----------+-------------+--------------+-----------+--------------+--------------+-------+--------------+----------+\n",
      "|   1| PAYMENT| 9839.64|C1231006815|     170136.0|     160296.36|M1979787155|           0.0|           0.0|      0|             0|       1.0|\n",
      "|   1| PAYMENT| 1864.28|C1666544295|      21249.0|      19384.72|M2044282225|           0.0|           0.0|      0|             0|       1.0|\n",
      "|   1|TRANSFER|   181.0|C1305486145|        181.0|           0.0| C553264065|           0.0|           0.0|      1|             0|       3.0|\n",
      "|   1|CASH_OUT|   181.0| C840083671|        181.0|           0.0|  C38997010|       21182.0|           0.0|      1|             0|       0.0|\n",
      "|   1| PAYMENT|11668.14|C2048537720|      41554.0|      29885.86|M1230701703|           0.0|           0.0|      0|             0|       1.0|\n",
      "+----+--------+--------+-----------+-------------+--------------+-----------+--------------+--------------+-------+--------------+----------+\n",
      "only showing top 5 rows\n",
      "\n"
     ]
    },
    {
     "name": "stderr",
     "output_type": "stream",
     "text": [
      "\r",
      "[Stage 7:=======>                                                   (1 + 7) / 8]\r",
      "\r",
      "                                                                                \r"
     ]
    }
   ],
   "source": [
    "# Create a StringIndexer to convert the 'type' column to numerical format\n",
    "string_indexer = StringIndexer(inputCol=\"type\", outputCol=\"type_index\")\n",
    "\n",
    "# Train the StringIndexer on the data\n",
    "string_indexer_model = string_indexer.fit(df)\n",
    "\n",
    "# Apply the StringIndexer to transform the data\n",
    "indexed_data = string_indexer_model.transform(df)\n",
    "\n",
    "# Display the results\n",
    "indexed_data.show(5)"
   ]
  },
  {
   "cell_type": "markdown",
   "metadata": {
    "id": "Qp8kCCssgqLI"
   },
   "source": [
    "**Select and define feature columns that using to train model**"
   ]
  },
  {
   "cell_type": "code",
   "execution_count": 8,
   "metadata": {
    "colab": {
     "base_uri": "https://localhost:8080/"
    },
    "id": "eP1R34baXt-e",
    "outputId": "310ba880-d255-4cef-e776-783889dd38d5"
   },
   "outputs": [
    {
     "name": "stdout",
     "output_type": "stream",
     "text": [
      "+----+--------+--------+-----------+-------------+--------------+-----------+--------------+--------------+-------+--------------+----------+--------------------+\n",
      "|step|    type|  amount|   nameOrig|oldbalanceOrg|newbalanceOrig|   nameDest|oldbalanceDest|newbalanceDest|isFraud|isFlaggedFraud|type_index|            features|\n",
      "+----+--------+--------+-----------+-------------+--------------+-----------+--------------+--------------+-------+--------------+----------+--------------------+\n",
      "|   1| PAYMENT| 9839.64|C1231006815|     170136.0|     160296.36|M1979787155|           0.0|           0.0|      0|             0|       1.0|[1.0,9839.64,1701...|\n",
      "|   1| PAYMENT| 1864.28|C1666544295|      21249.0|      19384.72|M2044282225|           0.0|           0.0|      0|             0|       1.0|[1.0,1864.28,2124...|\n",
      "|   1|TRANSFER|   181.0|C1305486145|        181.0|           0.0| C553264065|           0.0|           0.0|      1|             0|       3.0|[3.0,181.0,181.0,...|\n",
      "|   1|CASH_OUT|   181.0| C840083671|        181.0|           0.0|  C38997010|       21182.0|           0.0|      1|             0|       0.0|[0.0,181.0,181.0,...|\n",
      "|   1| PAYMENT|11668.14|C2048537720|      41554.0|      29885.86|M1230701703|           0.0|           0.0|      0|             0|       1.0|[1.0,11668.14,415...|\n",
      "+----+--------+--------+-----------+-------------+--------------+-----------+--------------+--------------+-------+--------------+----------+--------------------+\n",
      "only showing top 5 rows\n",
      "\n"
     ]
    }
   ],
   "source": [
    "# Define feature columns\n",
    "feature_cols = ['type_index', 'amount', 'oldbalanceOrg', 'newbalanceOrig', 'oldbalanceDest', 'newbalanceDest']\n",
    "\n",
    "# Assemble features into a feature vector\n",
    "assembler = VectorAssembler(inputCols=feature_cols, outputCol=\"features\")\n",
    "\n",
    "df_new = assembler.transform(indexed_data)\n",
    "df_new.show(5)"
   ]
  },
  {
   "cell_type": "markdown",
   "metadata": {
    "id": "Iocc5mkMXzid"
   },
   "source": [
    "**Split data to 20% to test and 80% to train model**"
   ]
  },
  {
   "cell_type": "code",
   "execution_count": 9,
   "metadata": {
    "colab": {
     "base_uri": "https://localhost:8080/"
    },
    "id": "ne7pb2ahXzDN",
    "outputId": "e869d569-a269-40e3-8693-1daad86be718"
   },
   "outputs": [
    {
     "name": "stderr",
     "output_type": "stream",
     "text": [
      "                                                                                \r"
     ]
    },
    {
     "name": "stdout",
     "output_type": "stream",
     "text": [
      "Number of rows in train dataset: 5089000\n"
     ]
    },
    {
     "name": "stderr",
     "output_type": "stream",
     "text": [
      "\r",
      "[Stage 15:>                                                         (0 + 8) / 8]\r"
     ]
    },
    {
     "name": "stdout",
     "output_type": "stream",
     "text": [
      "Number of rows in test dataset: 1273620\n"
     ]
    },
    {
     "name": "stderr",
     "output_type": "stream",
     "text": [
      "\r",
      "[Stage 15:=====================>                                    (3 + 5) / 8]\r",
      "\r",
      "                                                                                \r"
     ]
    }
   ],
   "source": [
    "train_df, test_df = df_new.randomSplit([0.8, 0.2], seed=123)\n",
    "\n",
    "# Display number of rows data each train, test data\n",
    "print(\"Number of rows in train dataset:\", train_df.count())\n",
    "print(\"Number of rows in test dataset:\", test_df.count())"
   ]
  },
  {
   "cell_type": "markdown",
   "metadata": {
    "id": "yu1FgcSNYYSM"
   },
   "source": [
    "**Count number of fraud and not fraud in train dataset**"
   ]
  },
  {
   "cell_type": "code",
   "execution_count": 10,
   "metadata": {
    "colab": {
     "base_uri": "https://localhost:8080/"
    },
    "id": "pgscYieaYXXV",
    "outputId": "57d658dc-41ea-46c9-af5a-7e41bce34da0"
   },
   "outputs": [
    {
     "name": "stderr",
     "output_type": "stream",
     "text": [
      "\r",
      "[Stage 18:>                                                         (0 + 8) / 8]\r"
     ]
    },
    {
     "name": "stdout",
     "output_type": "stream",
     "text": [
      "+-------+-------+\n",
      "|isFraud|  count|\n",
      "+-------+-------+\n",
      "|      1|   6610|\n",
      "|      0|5082390|\n",
      "+-------+-------+\n",
      "\n"
     ]
    },
    {
     "name": "stderr",
     "output_type": "stream",
     "text": [
      "\r",
      "[Stage 18:==================================================>       (7 + 1) / 8]\r",
      "\r",
      "                                                                                \r"
     ]
    }
   ],
   "source": [
    "train_df.groupBy(\"isFraud\").count().show()"
   ]
  },
  {
   "cell_type": "markdown",
   "metadata": {
    "id": "21KkSdIQYq-v"
   },
   "source": [
    "**Implement Random undersampling to handle imbalance data**"
   ]
  },
  {
   "cell_type": "code",
   "execution_count": 11,
   "metadata": {
    "id": "q7DGI7c4YxF2"
   },
   "outputs": [],
   "source": [
    "from pyspark.sql import functions as F\n",
    "\n",
    "def undersample_majority(df, ratio=1):\n",
    "    \"\"\"\n",
    "    Undersample the majority class in a Spark DataFrame to balance the dataset.\n",
    "\n",
    "    Parameters:\n",
    "    df (DataFrame): The input DataFrame containing the class column.\n",
    "    ratio (int): The desired ratio of majority to minority class samples.\n",
    "                 For example, a ratio of 1 means 1:1 balance between majority and minority classes.\n",
    "                 A ratio of 5 means 5:1 balance (majority:minority).\n",
    "\n",
    "    Returns:\n",
    "    DataFrame: A DataFrame with the majority class undersampled to the specified ratio.\n",
    "    \"\"\"\n",
    "    \n",
    "    # Calculate the count of minority class samples\n",
    "    minority_count = df.filter(F.col('isFraud') == 1).count()\n",
    "    \n",
    "    # Calculate the count of majority class samples\n",
    "    majority_count = df.filter(F.col('isFraud') == 0).count()\n",
    "    \n",
    "    # Calculate the fraction of the majority class to sample\n",
    "    sample_fraction = (ratio * minority_count) / majority_count\n",
    "    \n",
    "    # Undersample the majority class\n",
    "    undersampled_majority = df.filter(F.col('isFraud') == 0)\\\n",
    "                              .sample(withReplacement=False, fraction=sample_fraction, seed=88)\n",
    "    \n",
    "    # Combine the minority class with the undersampled majority class\n",
    "    undersampled_df = df.filter(F.col('isFraud') == 1).union(undersampled_majority)\n",
    "    \n",
    "    return undersampled_df"
   ]
  },
  {
   "cell_type": "code",
   "execution_count": 12,
   "metadata": {
    "colab": {
     "base_uri": "https://localhost:8080/"
    },
    "id": "xFvzSllGY2VG",
    "outputId": "fa4b19fd-64e9-4f15-fba8-aa1abb56cb7e"
   },
   "outputs": [
    {
     "name": "stderr",
     "output_type": "stream",
     "text": [
      "[Stage 27:>                                                         (0 + 1) / 1]\r"
     ]
    },
    {
     "name": "stdout",
     "output_type": "stream",
     "text": [
      "+----+--------+----------+-----------+-------------+--------------+-----------+--------------+--------------+-------+--------------+----------+--------------------+\n",
      "|step|    type|    amount|   nameOrig|oldbalanceOrg|newbalanceOrig|   nameDest|oldbalanceDest|newbalanceDest|isFraud|isFlaggedFraud|type_index|            features|\n",
      "+----+--------+----------+-----------+-------------+--------------+-----------+--------------+--------------+-------+--------------+----------+--------------------+\n",
      "|   1|CASH_OUT|     181.0| C840083671|        181.0|           0.0|  C38997010|       21182.0|           0.0|      1|             0|       0.0|[0.0,181.0,181.0,...|\n",
      "|   1|CASH_OUT|    2806.0|C2101527076|       2806.0|           0.0|C1007251739|       26202.0|           0.0|      1|             0|       0.0|[0.0,2806.0,2806....|\n",
      "|   1|CASH_OUT|   20128.0|C1118430673|      20128.0|           0.0| C339924917|        6268.0|      12145.85|      1|             0|       0.0|[0.0,20128.0,2012...|\n",
      "|   1|CASH_OUT|  35063.63|C1635772897|     35063.63|           0.0|C1983025922|       31140.0|       7550.03|      1|             0|       0.0|[0.0,35063.63,350...|\n",
      "|   1|CASH_OUT| 132842.64|  C13692003|      4499.08|           0.0| C297927961|           0.0|     132842.64|      1|             0|       0.0|[0.0,132842.64,44...|\n",
      "|   1|CASH_OUT| 235238.66|C1499825229|    235238.66|           0.0|C2100440237|           0.0|     235238.66|      1|             0|       0.0|[0.0,235238.66,23...|\n",
      "|   1|CASH_OUT| 416001.33| C749981943|          0.0|           0.0| C667346055|         102.0|    9291619.62|      1|             0|       0.0|[0.0,416001.33,0....|\n",
      "|   1|CASH_OUT|1277212.77| C467632528|   1277212.77|           0.0| C716083600|           0.0|    2444985.19|      1|             0|       0.0|[0.0,1277212.77,1...|\n",
      "|   1|TRANSFER|     181.0|C1305486145|        181.0|           0.0| C553264065|           0.0|           0.0|      1|             0|       3.0|[3.0,181.0,181.0,...|\n",
      "|   1|TRANSFER|    2806.0|C1420196421|       2806.0|           0.0| C972765878|           0.0|           0.0|      1|             0|       3.0|[3.0,2806.0,2806....|\n",
      "|   1|TRANSFER|  25071.46| C669700766|     25071.46|           0.0|C1384210339|           0.0|           0.0|      1|             0|       3.0|[3.0,25071.46,250...|\n",
      "|   1|TRANSFER|  35063.63|C1364127192|     35063.63|           0.0|C1136419747|           0.0|           0.0|      1|             0|       3.0|[3.0,35063.63,350...|\n",
      "|   1|TRANSFER| 235238.66|C1872047468|    235238.66|           0.0| C116289363|           0.0|           0.0|      1|             0|       3.0|[3.0,235238.66,23...|\n",
      "|   1|TRANSFER|1277212.77|C1334405552|   1277212.77|           0.0| C431687661|           0.0|           0.0|      1|             0|       3.0|[3.0,1277212.77,1...|\n",
      "|   2|CASH_OUT|  14949.84| C395257482|     14949.84|           0.0|C1032986144|      18161.79|      33111.63|      1|             0|       0.0|[0.0,14949.84,149...|\n",
      "|   2|CASH_OUT|  18627.02| C175961135|     18627.02|           0.0|C1711105800|     147251.58|      165878.6|      1|             0|       0.0|[0.0,18627.02,186...|\n",
      "|   2|CASH_OUT| 963532.14| C430329518|    963532.14|           0.0| C991505714|     132382.57|    1095914.71|      1|             0|       0.0|[0.0,963532.14,96...|\n",
      "|   2|CASH_OUT|1096187.24|  C77163673|   1096187.24|           0.0| C644345897|           0.0|    1096187.24|      1|             0|       0.0|[0.0,1096187.24,1...|\n",
      "|   2|TRANSFER|  18627.02|C1375503918|     18627.02|           0.0| C234430897|           0.0|           0.0|      1|             0|       3.0|[3.0,18627.02,186...|\n",
      "|   2|TRANSFER|1096187.24|C1093223281|   1096187.24|           0.0|C2063275841|           0.0|           0.0|      1|             0|       3.0|[3.0,1096187.24,1...|\n",
      "+----+--------+----------+-----------+-------------+--------------+-----------+--------------+--------------+-------+--------------+----------+--------------------+\n",
      "only showing top 20 rows\n",
      "\n"
     ]
    },
    {
     "name": "stderr",
     "output_type": "stream",
     "text": [
      "\r",
      "                                                                                \r"
     ]
    }
   ],
   "source": [
    "# Create new data frame balance data using undersampling\n",
    "df_undersampling_1_1 = undersample_majority(train_df, 1)\n",
    "df_undersampling_1_1.show()"
   ]
  },
  {
   "cell_type": "markdown",
   "metadata": {
    "id": "S6Fh4mNOZ2yI"
   },
   "source": [
    "**Count number of value fraud and not fraud after applying Random Undersampling**"
   ]
  },
  {
   "cell_type": "code",
   "execution_count": 13,
   "metadata": {
    "colab": {
     "base_uri": "https://localhost:8080/"
    },
    "id": "GwGRN94-Z1hI",
    "outputId": "802a827b-b2ba-4ab2-b261-e18e006650d5"
   },
   "outputs": [
    {
     "name": "stderr",
     "output_type": "stream",
     "text": [
      "[Stage 28:============================>                            (8 + 8) / 16]\r"
     ]
    },
    {
     "name": "stdout",
     "output_type": "stream",
     "text": [
      "+-------+-----+\n",
      "|isFraud|count|\n",
      "+-------+-----+\n",
      "|      1| 6610|\n",
      "|      0| 6526|\n",
      "+-------+-----+\n",
      "\n"
     ]
    },
    {
     "name": "stderr",
     "output_type": "stream",
     "text": [
      "\r",
      "[Stage 28:======================================>                 (11 + 5) / 16]\r",
      "\r",
      "                                                                                \r"
     ]
    }
   ],
   "source": [
    "df_undersampling_1_1.groupBy(\"isFraud\").count().show()"
   ]
  },
  {
   "cell_type": "code",
   "execution_count": 14,
   "metadata": {},
   "outputs": [
    {
     "data": {
      "image/png": "[encoded data removed]",
      "text/plain": [
       "<Figure size 1000x500 with 1 Axes>"
      ]
     },
     "metadata": {},
     "output_type": "display_data"
    }
   ],
   "source": [
    "# Tạo biểu đồ cho số lượng và tỷ lệ phần trăm giao dịch gian lận so với Giao dịch hợp lệ\n",
    "plt.figure(figsize=(10,5))\n",
    "\n",
    "plt.subplot(122)\n",
    "plt.pie(x=[6526,6610],labels=['Hợp lệ','Gian lận'],\n",
    "        autopct='%.2f', colors=['#008080','crimson'], startangle=30, shadow=True)\n",
    "plt.legend(loc='best')\n",
    "\n",
    "plt.show()"
   ]
  },
  {
   "cell_type": "markdown",
   "metadata": {
    "id": "kyjlvCdJavOj"
   },
   "source": [
    "# **TRAINNING MODEL**"
   ]
  },
  {
   "cell_type": "markdown",
   "metadata": {
    "id": "UvLX5LoImptE"
   },
   "source": [
    "**Define an array to save the value evaluation on the test data**"
   ]
  },
  {
   "cell_type": "code",
   "execution_count": 15,
   "metadata": {
    "id": "Ra3bP3gImkpk"
   },
   "outputs": [],
   "source": [
    "model_accuracy = []\n",
    "model_precision = []\n",
    "model_recall = []\n",
    "model_f1 = []"
   ]
  },
  {
   "cell_type": "markdown",
   "metadata": {
    "id": "DVi0szgEmz4e"
   },
   "source": [
    "**Define an array to save the value evaluation on the train data**"
   ]
  },
  {
   "cell_type": "code",
   "execution_count": 16,
   "metadata": {
    "id": "JKu2IBWem3w9"
   },
   "outputs": [],
   "source": [
    "model_accuracy_train = []\n",
    "model_precision_train = []\n",
    "model_recall_train = []\n",
    "model_f1_train = []"
   ]
  },
  {
   "cell_type": "markdown",
   "metadata": {
    "id": "L-__BDOeam6s"
   },
   "source": [
    "**Traning model using Decision Tree Classifier**\n",
    "- Using three parameters:\n",
    "    + maxDepth in [5, 10, 15]\n",
    "    + maxBins in [20, 40, 60]\n",
    "    + impurity in [\"gini\", \"entropy\"]\n",
    "- Using 10-fold to cross validation"
   ]
  },
  {
   "cell_type": "code",
   "execution_count": 17,
   "metadata": {
    "colab": {
     "base_uri": "https://localhost:8080/"
    },
    "id": "PHq2Kq4Aa5Rj",
    "outputId": "b73de422-b716-4a67-cc7e-3375e78d294b"
   },
   "outputs": [
    {
     "name": "stderr",
     "output_type": "stream",
     "text": [
      "                                                                                \r"
     ]
    },
    {
     "name": "stdout",
     "output_type": "stream",
     "text": [
      "Best Max Depth: 20\n",
      "Best Max Bins: 1000\n",
      "Best Impurity: entropy\n"
     ]
    }
   ],
   "source": [
    "# Build model using Decision Tree\n",
    "dt = DecisionTreeClassifier(labelCol=\"isFraud\", featuresCol=\"features\")\n",
    "\n",
    "# Define parameter grid\n",
    "paramGrid = ParamGridBuilder() \\\n",
    "    .addGrid(dt.maxDepth, [20, 30]) \\\n",
    "    .addGrid(dt.maxBins, [500, 1000]) \\\n",
    "    .addGrid(dt.impurity, [\"gini\", \"entropy\"]) \\\n",
    "    .build()\n",
    "\n",
    "# Create CrossValidator\n",
    "evaluator = BinaryClassificationEvaluator(rawPredictionCol='rawPrediction', labelCol='isFraud', metricName='areaUnderROC')\n",
    "\n",
    "# Use CrossValidator to select the best model\n",
    "crossval = CrossValidator(estimator=dt,\n",
    "                          estimatorParamMaps=paramGrid,\n",
    "                          evaluator=evaluator,\n",
    "                          numFolds=10)\n",
    "\n",
    "# Train model\n",
    "cv_model = crossval.fit(df_undersampling_1_1)\n",
    "\n",
    "# Best model\n",
    "best_model = cv_model.bestModel\n",
    "\n",
    "# Display best parameters\n",
    "print(\"Best Max Depth:\", best_model._java_obj.getMaxDepth())\n",
    "print(\"Best Max Bins:\", best_model._java_obj.getMaxBins())\n",
    "print(\"Best Impurity:\", best_model._java_obj.getImpurity())"
   ]
  },
  {
   "cell_type": "code",
   "execution_count": 18,
   "metadata": {
    "colab": {
     "base_uri": "https://localhost:8080/"
    },
    "id": "5eJLNkg5mgmh",
    "outputId": "f8bc0a78-c2b2-4a19-9335-75b971cca794"
   },
   "outputs": [
    {
     "name": "stderr",
     "output_type": "stream",
     "text": [
      "[Stage 4014:=======>                                                (1 + 7) / 8]\r"
     ]
    },
    {
     "name": "stdout",
     "output_type": "stream",
     "text": [
      "AUC ROC: 0.9972023008843964\n",
      "Accuracy: 0.991096245347906\n",
      "Precision: 0.12350166267110045\n",
      "Recall: 0.9962570180910792\n",
      "F1-score: 0.21976056144213568\n"
     ]
    },
    {
     "name": "stderr",
     "output_type": "stream",
     "text": [
      "\r",
      "[Stage 4014:==============>                                         (2 + 6) / 8]\r",
      "\r",
      "                                                                                \r"
     ]
    }
   ],
   "source": [
    "# Predict on the test dataset\n",
    "predictions = best_model.transform(test_df)\n",
    "\n",
    "# Calculate metrics\n",
    "auc_roc, accuracy, precision, recall, f1_score = compute_metrics(predictions)\n",
    "\n",
    "# Save data in to the array\n",
    "model_accuracy.append(accuracy)\n",
    "model_precision.append(precision)\n",
    "model_recall.append(recall)\n",
    "model_f1.append(f1_score)\n",
    "\n",
    "# Print the value evaluation\n",
    "print(\"AUC ROC:\", auc_roc)\n",
    "print(\"Accuracy:\", accuracy)\n",
    "print(\"Precision:\", precision)\n",
    "print(\"Recall:\", recall)\n",
    "print(\"F1-score:\", f1_score)"
   ]
  },
  {
   "cell_type": "code",
   "execution_count": 19,
   "metadata": {
    "colab": {
     "base_uri": "https://localhost:8080/"
    },
    "id": "rYBhfJVdnRnx",
    "outputId": "5f86d0c3-fc3b-4b30-d4ef-fc2c2bfefe0d"
   },
   "outputs": [
    {
     "name": "stderr",
     "output_type": "stream",
     "text": [
      "[Stage 4037:========================================>             (12 + 4) / 16]\r"
     ]
    },
    {
     "name": "stdout",
     "output_type": "stream",
     "text": [
      "AUC ROC: 1.0\n",
      "Accuracy: 1.0\n",
      "Precision: 1.0\n",
      "Recall: 1.0\n",
      "F1-score: 1.0\n"
     ]
    },
    {
     "name": "stderr",
     "output_type": "stream",
     "text": [
      "\r",
      "                                                                                \r"
     ]
    }
   ],
   "source": [
    "# Predict on the train dataset\n",
    "predictions = best_model.transform(df_undersampling_1_1)\n",
    "\n",
    "# Calculate metrics\n",
    "auc_roc, accuracy, precision, recall, f1_score = compute_metrics(predictions)\n",
    "\n",
    "# Save data in to the array\n",
    "model_accuracy_train.append(accuracy)\n",
    "model_precision_train.append(precision)\n",
    "model_recall_train.append(recall)\n",
    "model_f1_train.append(f1_score)\n",
    "\n",
    "# Print the value evaluation\n",
    "print(\"AUC ROC:\", auc_roc)\n",
    "print(\"Accuracy:\", accuracy)\n",
    "print(\"Precision:\", precision)\n",
    "print(\"Recall:\", recall)\n",
    "print(\"F1-score:\", f1_score)"
   ]
  },
  {
   "cell_type": "markdown",
   "metadata": {
    "id": "G5YWm8_geQJJ"
   },
   "source": [
    "**Traning model using Support Vector Machine**\n",
    "- Using two parameters:\n",
    "  + maxIter in [10, 100]\n",
    "  + regParam in [0.1, 0.01]\n",
    "- Using 10-fold to cross validation"
   ]
  },
  {
   "cell_type": "code",
   "execution_count": 20,
   "metadata": {
    "colab": {
     "base_uri": "https://localhost:8080/"
    },
    "id": "Cbwr8j5DenDD",
    "outputId": "cd7a544c-770a-46aa-8e2c-47855e4b3e23"
   },
   "outputs": [
    {
     "name": "stderr",
     "output_type": "stream",
     "text": [
      "24/06/09 08:31:38 WARN InstanceBuilder: Failed to load implementation from:dev.ludovic.netlib.blas.JNIBLAS\n",
      "24/06/09 08:31:38 WARN InstanceBuilder: Failed to load implementation from:dev.ludovic.netlib.blas.VectorBLAS\n",
      "                                                                                \r"
     ]
    },
    {
     "name": "stdout",
     "output_type": "stream",
     "text": [
      "Best Max Iterations: 100\n"
     ]
    }
   ],
   "source": [
    "# Build model Support Vector Machine\n",
    "svm = LinearSVC(labelCol=\"isFraud\", featuresCol=\"features\")\n",
    "\n",
    "# Define parameter grid\n",
    "paramGrid = ParamGridBuilder() \\\n",
    "    .addGrid(svm.maxIter, [10, 100]) \\\n",
    "    .build()\n",
    "\n",
    "# Create CrossValidator\n",
    "evaluator = BinaryClassificationEvaluator(rawPredictionCol='rawPrediction', labelCol='isFraud', metricName='areaUnderROC')\n",
    "\n",
    "# Use CrossValidator to select the best model\n",
    "crossval = CrossValidator(estimator=svm,\n",
    "                          estimatorParamMaps=paramGrid,\n",
    "                          evaluator=evaluator,\n",
    "                          numFolds=10)\n",
    "\n",
    "# Train model\n",
    "cv_model = crossval.fit(df_undersampling_1_1)\n",
    "\n",
    "# Best model\n",
    "best_model = cv_model.bestModel\n",
    "\n",
    "# Display best parameters\n",
    "print(\"Best Max Iterations:\", best_model._java_obj.getMaxIter())"
   ]
  },
  {
   "cell_type": "code",
   "execution_count": 21,
   "metadata": {
    "colab": {
     "base_uri": "https://localhost:8080/"
    },
    "id": "O1lYsawTBHaS",
    "outputId": "7d0e492a-bec0-47a3-8b8c-6b564d61b54c"
   },
   "outputs": [
    {
     "name": "stderr",
     "output_type": "stream",
     "text": [
      "[Stage 13900:======>                                                (1 + 7) / 8]\r"
     ]
    },
    {
     "name": "stdout",
     "output_type": "stream",
     "text": [
      "AUC ROC: 0.9475900494275488\n",
      "Accuracy: 0.9777099919913318\n",
      "Precision: 0.04377299359585775\n",
      "Recall: 0.801621958827199\n",
      "F1-score: 0.08301301721631836\n"
     ]
    },
    {
     "name": "stderr",
     "output_type": "stream",
     "text": [
      "\r",
      "[Stage 13900:====================>                                  (3 + 5) / 8]\r",
      "\r",
      "                                                                                \r"
     ]
    }
   ],
   "source": [
    "# Predict on the test dataset\n",
    "predictions = best_model.transform(test_df)\n",
    "\n",
    "# Calculate metrics\n",
    "auc_roc, accuracy, precision, recall, f1_score = compute_metrics(predictions)\n",
    "\n",
    "# Save data in to the array\n",
    "model_accuracy.append(accuracy)\n",
    "model_precision.append(precision)\n",
    "model_recall.append(recall)\n",
    "model_f1.append(f1_score)\n",
    "\n",
    "# Print the value evaluation\n",
    "print(\"AUC ROC:\", auc_roc)\n",
    "print(\"Accuracy:\", accuracy)\n",
    "print(\"Precision:\", precision)\n",
    "print(\"Recall:\", recall)\n",
    "print(\"F1-score:\", f1_score)"
   ]
  },
  {
   "cell_type": "code",
   "execution_count": 22,
   "metadata": {
    "colab": {
     "base_uri": "https://localhost:8080/"
    },
    "id": "F20dhZjmBM9g",
    "outputId": "0b04819a-2ff8-45bb-e2a9-889952c9c3fc"
   },
   "outputs": [
    {
     "name": "stderr",
     "output_type": "stream",
     "text": [
      "[Stage 13923:===========================>                          (8 + 8) / 16]\r"
     ]
    },
    {
     "name": "stdout",
     "output_type": "stream",
     "text": [
      "AUC ROC: 0.9437904497452991\n",
      "Accuracy: 0.8848964677222899\n",
      "Precision: 0.9752050708426547\n",
      "Recall: 0.791376701966717\n",
      "F1-score: 0.8737264072156338\n"
     ]
    },
    {
     "name": "stderr",
     "output_type": "stream",
     "text": [
      "\r",
      "[Stage 13923:=================================>                   (10 + 6) / 16]\r",
      "\r",
      "                                                                                \r"
     ]
    }
   ],
   "source": [
    "# Predict on the train dataset\n",
    "predictions = best_model.transform(df_undersampling_1_1)\n",
    "\n",
    "# Calculate metrics\n",
    "auc_roc, accuracy, precision, recall, f1_score = compute_metrics(predictions)\n",
    "\n",
    "# Save data in to the array\n",
    "model_accuracy_train.append(accuracy)\n",
    "model_precision_train.append(precision)\n",
    "model_recall_train.append(recall)\n",
    "model_f1_train.append(f1_score)\n",
    "\n",
    "# Print the value evaluation\n",
    "print(\"AUC ROC:\", auc_roc)\n",
    "print(\"Accuracy:\", accuracy)\n",
    "print(\"Precision:\", precision)\n",
    "print(\"Recall:\", recall)\n",
    "print(\"F1-score:\", f1_score)"
   ]
  },
  {
   "cell_type": "markdown",
   "metadata": {
    "id": "LnsKM36SfGWg"
   },
   "source": [
    "**Traning model using Naive Bayes**\n",
    "- Using two parameters:\n",
    "  + smoothing in [0.1, 0.5, 1.0]\n",
    "- Using 10-fold to cross validation"
   ]
  },
  {
   "cell_type": "code",
   "execution_count": 26,
   "metadata": {
    "colab": {
     "base_uri": "https://localhost:8080/"
    },
    "id": "ZFMvXkh9fYPI",
    "outputId": "7698919c-665e-415e-829e-fc1143ec8760"
   },
   "outputs": [
    {
     "name": "stderr",
     "output_type": "stream",
     "text": [
      "[Stage 14366:==============================>                       (9 + 7) / 16]\r"
     ]
    },
    {
     "name": "stdout",
     "output_type": "stream",
     "text": [
      "Best Smoothing Parameter: 0.1\n"
     ]
    },
    {
     "name": "stderr",
     "output_type": "stream",
     "text": [
      "\r",
      "[Stage 14366:=================================================>   (15 + 1) / 16]\r",
      "\r",
      "                                                                                \r"
     ]
    }
   ],
   "source": [
    "# Build model Naive Bayes\n",
    "nb = NaiveBayes(labelCol=\"isFraud\", featuresCol=\"features\")\n",
    "\n",
    "# Define parameter grid (smoothing parameter)\n",
    "paramGrid = ParamGridBuilder() \\\n",
    "    .addGrid(nb.smoothing, [0.1, 0.5, 1.0]) \\\n",
    "    .build()\n",
    "\n",
    "# Create CrossValidator\n",
    "evaluator = BinaryClassificationEvaluator(rawPredictionCol='rawPrediction', labelCol='isFraud', metricName='areaUnderROC')\n",
    "\n",
    "# Use CrossValidator to select the best model\n",
    "crossval = CrossValidator(estimator=nb,\n",
    "                          estimatorParamMaps=paramGrid,\n",
    "                          evaluator=evaluator,\n",
    "                          numFolds=10)\n",
    "\n",
    "# Train model\n",
    "cv_model = crossval.fit(df_undersampling_1_1)\n",
    "\n",
    "# Best model\n",
    "best_model = cv_model.bestModel\n",
    "\n",
    "# Display best parameters\n",
    "print(\"Best Smoothing Parameter:\", best_model._java_obj.getSmoothing())"
   ]
  },
  {
   "cell_type": "code",
   "execution_count": 27,
   "metadata": {
    "colab": {
     "base_uri": "https://localhost:8080/"
    },
    "id": "inMUuj_XBwiu",
    "outputId": "b7392ff1-ceac-453d-a7e3-b480ee4dca22"
   },
   "outputs": [
    {
     "name": "stderr",
     "output_type": "stream",
     "text": [
      "[Stage 14389:>                                                      (0 + 8) / 8]\r"
     ]
    },
    {
     "name": "stdout",
     "output_type": "stream",
     "text": [
      "AUC ROC: 0.43775134664860527\n",
      "Accuracy: 0.6267316782085709\n",
      "Precision: 0.00287072303188643\n",
      "Recall: 0.8533998752339363\n",
      "F1-score: 0.0057221973572483265\n"
     ]
    },
    {
     "name": "stderr",
     "output_type": "stream",
     "text": [
      "\r",
      "[Stage 14389:======>                                                (1 + 7) / 8]\r",
      "\r",
      "                                                                                \r"
     ]
    }
   ],
   "source": [
    "# Predict on the test dataset\n",
    "predictions = best_model.transform(test_df)\n",
    "\n",
    "# Calculate metrics\n",
    "auc_roc, accuracy, precision, recall, f1_score = compute_metrics(predictions)\n",
    "\n",
    "# Save data in to the array\n",
    "model_accuracy.append(accuracy)\n",
    "model_precision.append(precision)\n",
    "model_recall.append(recall)\n",
    "model_f1.append(f1_score)\n",
    "\n",
    "# Print the value evaluation\n",
    "print(\"AUC ROC:\", auc_roc)\n",
    "print(\"Accuracy:\", accuracy)\n",
    "print(\"Precision:\", precision)\n",
    "print(\"Recall:\", recall)\n",
    "print(\"F1-score:\", f1_score)"
   ]
  },
  {
   "cell_type": "code",
   "execution_count": 28,
   "metadata": {
    "colab": {
     "base_uri": "https://localhost:8080/"
    },
    "id": "-zWNGgWbB6XW",
    "outputId": "3155813b-c336-4455-e53d-d3ade632bd6a"
   },
   "outputs": [
    {
     "name": "stderr",
     "output_type": "stream",
     "text": [
      "[Stage 14412:==============================>                       (9 + 7) / 16]\r"
     ]
    },
    {
     "name": "stdout",
     "output_type": "stream",
     "text": [
      "AUC ROC: 0.4372446673216363\n",
      "Accuracy: 0.738733252131547\n",
      "Precision: 0.6944920440636475\n",
      "Recall: 0.8583963691376701\n",
      "F1-score: 0.7677943166441137\n"
     ]
    },
    {
     "name": "stderr",
     "output_type": "stream",
     "text": [
      "\r",
      "[Stage 14412:==============================================>      (14 + 2) / 16]\r",
      "\r",
      "                                                                                \r"
     ]
    }
   ],
   "source": [
    "# Predict on the train dataset\n",
    "predictions = best_model.transform(df_undersampling_1_1)\n",
    "\n",
    "# Calculate metrics\n",
    "auc_roc, accuracy, precision, recall, f1_score = compute_metrics(predictions)\n",
    "\n",
    "# Save data in to the array\n",
    "model_accuracy_train.append(accuracy)\n",
    "model_precision_train.append(precision)\n",
    "model_recall_train.append(recall)\n",
    "model_f1_train.append(f1_score)\n",
    "\n",
    "# Print the value evaluation\n",
    "print(\"AUC ROC:\", auc_roc)\n",
    "print(\"Accuracy:\", accuracy)\n",
    "print(\"Precision:\", precision)\n",
    "print(\"Recall:\", recall)\n",
    "print(\"F1-score:\", f1_score)"
   ]
  },
  {
   "cell_type": "markdown",
   "metadata": {
    "id": "_jcbI2YmfsjQ"
   },
   "source": [
    "**Traning model using Logistic Regression**\n",
    "- Using two parameters:\n",
    "  + regParam in [0.1, 0.01]\n",
    "  + elasticNetParam in [0.0, 0.5, 1.0]\n",
    "  + maxIter in [10, 100]\n",
    "- Using 10-fold to cross validation"
   ]
  },
  {
   "cell_type": "code",
   "execution_count": 29,
   "metadata": {
    "colab": {
     "base_uri": "https://localhost:8080/"
    },
    "id": "DnzNfwgof9ih",
    "outputId": "ab4f29cc-1ef1-4a39-8998-42fd8d3164bf"
   },
   "outputs": [
    {
     "name": "stderr",
     "output_type": "stream",
     "text": [
      "                                                                                \r"
     ]
    },
    {
     "name": "stdout",
     "output_type": "stream",
     "text": [
      "Best Elastic Net Parameter: 1.0\n",
      "Best Max Iterations: 100\n"
     ]
    }
   ],
   "source": [
    "# Build model Logistic Regression\n",
    "lr = LogisticRegression(labelCol=\"isFraud\", featuresCol=\"features\")\n",
    "\n",
    "# Define parameter grid\n",
    "paramGrid = ParamGridBuilder() \\\n",
    "    .addGrid(lr.elasticNetParam, [0.0, 0.5, 1.0]) \\\n",
    "    .addGrid(lr.maxIter, [10, 100]) \\\n",
    "    .build()\n",
    "\n",
    "# Create CrossValidator\n",
    "evaluator = BinaryClassificationEvaluator(rawPredictionCol='rawPrediction', labelCol='isFraud', metricName='areaUnderROC')\n",
    "\n",
    "# Use CrossValidator to select the best model\n",
    "crossval = CrossValidator(estimator=lr,\n",
    "                          estimatorParamMaps=paramGrid,\n",
    "                          evaluator=evaluator,\n",
    "                          numFolds=10)\n",
    "\n",
    "# Train model\n",
    "cv_model = crossval.fit(df_undersampling_1_1)\n",
    "\n",
    "# Best model\n",
    "best_model = cv_model.bestModel\n",
    "\n",
    "# Display best parameters\n",
    "print(\"Best Elastic Net Parameter:\", best_model._java_obj.getElasticNetParam())\n",
    "print(\"Best Max Iterations:\", best_model._java_obj.getMaxIter())"
   ]
  },
  {
   "cell_type": "code",
   "execution_count": 30,
   "metadata": {
    "colab": {
     "base_uri": "https://localhost:8080/"
    },
    "id": "9XiBBJA5ByWn",
    "outputId": "1bb34903-f647-4946-b3b4-52e4875ab94e"
   },
   "outputs": [
    {
     "name": "stderr",
     "output_type": "stream",
     "text": [
      "[Stage 19567:================================================>      (7 + 1) / 8]\r"
     ]
    },
    {
     "name": "stdout",
     "output_type": "stream",
     "text": [
      "AUC ROC: 0.9717765265784449\n",
      "Accuracy: 0.9641031076773292\n",
      "Precision: 0.030141013078856558\n",
      "Recall: 0.8827199001871491\n",
      "F1-score: 0.058291622896455134\n"
     ]
    },
    {
     "name": "stderr",
     "output_type": "stream",
     "text": [
      "\r",
      "                                                                                \r"
     ]
    }
   ],
   "source": [
    "# Predict on the test dataset\n",
    "predictions = best_model.transform(test_df)\n",
    "\n",
    "# Calculate metrics\n",
    "auc_roc, accuracy, precision, recall, f1_score = compute_metrics(predictions)\n",
    "\n",
    "# Save data in to the array\n",
    "model_accuracy.append(accuracy)\n",
    "model_precision.append(precision)\n",
    "model_recall.append(recall)\n",
    "model_f1.append(f1_score)\n",
    "\n",
    "# Print the value evaluation\n",
    "print(\"AUC ROC:\", auc_roc)\n",
    "print(\"Accuracy:\", accuracy)\n",
    "print(\"Precision:\", precision)\n",
    "print(\"Recall:\", recall)\n",
    "print(\"F1-score:\", f1_score)"
   ]
  },
  {
   "cell_type": "code",
   "execution_count": 31,
   "metadata": {
    "colab": {
     "base_uri": "https://localhost:8080/"
    },
    "id": "8ueLL7f2B9N_",
    "outputId": "6a4cf1ea-974b-4340-a8e8-ceca77dbd902"
   },
   "outputs": [
    {
     "name": "stderr",
     "output_type": "stream",
     "text": [
      "[Stage 19590:===========================>                          (8 + 8) / 16]\r"
     ]
    },
    {
     "name": "stdout",
     "output_type": "stream",
     "text": [
      "AUC ROC: 0.9712274259183447\n",
      "Accuracy: 0.9174786845310596\n",
      "Precision: 0.9618856569709128\n",
      "Recall: 0.8704992435703479\n",
      "F1-score: 0.9139135959339263\n"
     ]
    },
    {
     "name": "stderr",
     "output_type": "stream",
     "text": [
      "\r",
      "[Stage 19590:====================================>                (11 + 5) / 16]\r",
      "\r",
      "                                                                                \r"
     ]
    }
   ],
   "source": [
    "# Predict on the train dataset\n",
    "predictions = best_model.transform(df_undersampling_1_1)\n",
    "\n",
    "# Calculate metrics\n",
    "auc_roc, accuracy, precision, recall, f1_score = compute_metrics(predictions)\n",
    "\n",
    "# Save data in to the array\n",
    "model_accuracy_train.append(accuracy)\n",
    "model_precision_train.append(precision)\n",
    "model_recall_train.append(recall)\n",
    "model_f1_train.append(f1_score)\n",
    "\n",
    "# Print the value evaluation\n",
    "print(\"AUC ROC:\", auc_roc)\n",
    "print(\"Accuracy:\", accuracy)\n",
    "print(\"Precision:\", precision)\n",
    "print(\"Recall:\", recall)\n",
    "print(\"F1-score:\", f1_score)"
   ]
  },
  {
   "cell_type": "markdown",
   "metadata": {
    "id": "p_7SBPMdgRK4"
   },
   "source": [
    "**Traning model using Random Forest**\n",
    "- Using two parameters:\n",
    "  + maxDepth in [20, 30]\n",
    "  + maxBins in [500, 1000]\n",
    "- Using 10-fold to cross validation"
   ]
  },
  {
   "cell_type": "code",
   "execution_count": 32,
   "metadata": {
    "colab": {
     "base_uri": "https://localhost:8080/"
    },
    "id": "E9HTO9ENgPv5",
    "outputId": "79a81874-ee03-4a28-953f-a4a085a8c308"
   },
   "outputs": [
    {
     "name": "stderr",
     "output_type": "stream",
     "text": [
      "                                                                                \r"
     ]
    },
    {
     "name": "stdout",
     "output_type": "stream",
     "text": [
      "Best Max Depth: 30\n",
      "Best Max Bins: 500\n"
     ]
    }
   ],
   "source": [
    "# Build model Random Forest\n",
    "rf = RandomForestClassifier(labelCol=\"isFraud\", featuresCol=\"features\")\n",
    "\n",
    "# Define parameter grid\n",
    "paramGrid = ParamGridBuilder() \\\n",
    "    .addGrid(rf.maxDepth, [20, 30]) \\\n",
    "    .addGrid(rf.maxBins, [500, 1000]) \\\n",
    "    .build()\n",
    "\n",
    "\n",
    "# Create CrossValidator\n",
    "evaluator = BinaryClassificationEvaluator(rawPredictionCol='rawPrediction', labelCol='isFraud', metricName='areaUnderROC')\n",
    "\n",
    "# Use CrossValidator to select the best model\n",
    "crossval = CrossValidator(estimator=rf,\n",
    "                          estimatorParamMaps=paramGrid,\n",
    "                          evaluator=evaluator,\n",
    "                          numFolds=10)\n",
    "\n",
    "# Train model\n",
    "cv_model = crossval.fit(df_undersampling_1_1)\n",
    "\n",
    "# Best model\n",
    "best_model = cv_model.bestModel\n",
    "\n",
    "# Display best parameters\n",
    "print(\"Best Max Depth:\", best_model._java_obj.getMaxDepth())\n",
    "print(\"Best Max Bins:\", best_model._java_obj.getMaxBins())"
   ]
  },
  {
   "cell_type": "code",
   "execution_count": 33,
   "metadata": {
    "colab": {
     "base_uri": "https://localhost:8080/"
    },
    "id": "5XbdWsXEgsSC",
    "outputId": "9efcc101-3710-42d7-ffd6-5e2b7cb8ed4b"
   },
   "outputs": [
    {
     "name": "stderr",
     "output_type": "stream",
     "text": [
      "[Stage 22014:>                                                      (0 + 8) / 8]\r"
     ]
    },
    {
     "name": "stdout",
     "output_type": "stream",
     "text": [
      "AUC ROC: 0.9984841944875449\n",
      "Accuracy: 0.9903676135739075\n",
      "Precision: 0.1152874972945675\n",
      "Recall: 0.9968808484092326\n",
      "F1-score: 0.2066735644076565\n"
     ]
    },
    {
     "name": "stderr",
     "output_type": "stream",
     "text": [
      "\r",
      "[Stage 22014:======>                                                (1 + 7) / 8]\r",
      "\r",
      "                                                                                \r"
     ]
    }
   ],
   "source": [
    "# Predict on the test dataset\n",
    "predictions = best_model.transform(test_df)\n",
    "\n",
    "# Calculate metrics\n",
    "auc_roc, accuracy, precision, recall, f1_score = compute_metrics(predictions)\n",
    "\n",
    "# Save data in to the array\n",
    "model_accuracy.append(accuracy)\n",
    "model_precision.append(precision)\n",
    "model_recall.append(recall)\n",
    "model_f1.append(f1_score)\n",
    "\n",
    "# Print the value evaluation\n",
    "print(\"AUC ROC:\", auc_roc)\n",
    "print(\"Accuracy:\", accuracy)\n",
    "print(\"Precision:\", precision)\n",
    "print(\"Recall:\", recall)\n",
    "print(\"F1-score:\", f1_score)"
   ]
  },
  {
   "cell_type": "code",
   "execution_count": 34,
   "metadata": {
    "colab": {
     "base_uri": "https://localhost:8080/"
    },
    "id": "8bZP9veEB_FA",
    "outputId": "9e344357-d668-4dc9-9389-0abb06c2c492"
   },
   "outputs": [
    {
     "name": "stderr",
     "output_type": "stream",
     "text": [
      "[Stage 22037:===========================>                          (8 + 8) / 16]\r"
     ]
    },
    {
     "name": "stdout",
     "output_type": "stream",
     "text": [
      "AUC ROC: 0.9999990031726927\n",
      "Accuracy: 0.9993909866017052\n",
      "Precision: 0.9993948562783661\n",
      "Recall: 0.9993948562783661\n",
      "F1-score: 0.9993948562783661\n"
     ]
    },
    {
     "name": "stderr",
     "output_type": "stream",
     "text": [
      "\r",
      "[Stage 22037:====================================>                (11 + 5) / 16]\r",
      "\r",
      "                                                                                \r"
     ]
    }
   ],
   "source": [
    "# Predict on the train dataset\n",
    "predictions = best_model.transform(df_undersampling_1_1)\n",
    "\n",
    "# Calculate metrics\n",
    "auc_roc, accuracy, precision, recall, f1_score = compute_metrics(predictions)\n",
    "\n",
    "# Save data in to the array\n",
    "model_accuracy_train.append(accuracy)\n",
    "model_precision_train.append(precision)\n",
    "model_recall_train.append(recall)\n",
    "model_f1_train.append(f1_score)\n",
    "\n",
    "# Print the value evaluation\n",
    "print(\"AUC ROC:\", auc_roc)\n",
    "print(\"Accuracy:\", accuracy)\n",
    "print(\"Precision:\", precision)\n",
    "print(\"Recall:\", recall)\n",
    "print(\"F1-score:\", f1_score)"
   ]
  },
  {
   "cell_type": "markdown",
   "metadata": {
    "id": "XWytRVelgwMZ"
   },
   "source": [
    "**Traning model using Gradient Boosting Trees**\n",
    "- Using two parameters:\n",
    "  + maxDepth in [20, 30]\n",
    "  + maxBins in [500, 1000]\n",
    "- Using 10-fold to cross validation"
   ]
  },
  {
   "cell_type": "code",
   "execution_count": 35,
   "metadata": {
    "colab": {
     "base_uri": "https://localhost:8080/"
    },
    "id": "yzPq65DQg1pS",
    "outputId": "7c56fab4-adef-4683-b531-8e5c3c511150"
   },
   "outputs": [
    {
     "name": "stderr",
     "output_type": "stream",
     "text": [
      "                                                                                \r"
     ]
    },
    {
     "name": "stdout",
     "output_type": "stream",
     "text": [
      "Best Max Depth: 20\n",
      "Best Max Bins: 1000\n"
     ]
    }
   ],
   "source": [
    "# Build model Gradient Boosting Tree\n",
    "gbt = GBTClassifier(labelCol=\"isFraud\", featuresCol=\"features\")\n",
    "\n",
    "# Define parameter grid\n",
    "paramGrid = ParamGridBuilder() \\\n",
    "    .addGrid(gbt.maxDepth, [20, 30]) \\\n",
    "    .addGrid(gbt.maxBins, [500, 1000]) \\\n",
    "    .build()\n",
    "\n",
    "# Create CrossValidator\n",
    "evaluator = BinaryClassificationEvaluator(rawPredictionCol='rawPrediction', labelCol='isFraud', metricName='areaUnderROC')\n",
    "\n",
    "# Use CrossValidator to select the best model\n",
    "crossval = CrossValidator(estimator=gbt,\n",
    "                          estimatorParamMaps=paramGrid,\n",
    "                          evaluator=evaluator,\n",
    "                          numFolds=10)\n",
    "\n",
    "# Train model\n",
    "cv_model = crossval.fit(df_undersampling_1_1)\n",
    "\n",
    "# Best model\n",
    "best_model = cv_model.bestModel\n",
    "\n",
    "# Display best parameters\n",
    "print(\"Best Max Depth:\", best_model._java_obj.getMaxDepth())\n",
    "print(\"Best Max Bins:\", best_model._java_obj.getMaxBins())"
   ]
  },
  {
   "cell_type": "code",
   "execution_count": 36,
   "metadata": {
    "colab": {
     "base_uri": "https://localhost:8080/"
    },
    "id": "jUuCbU2WB0--",
    "outputId": "4994a97c-cbf4-4fcb-d280-b5ce3b3749ff"
   },
   "outputs": [
    {
     "name": "stderr",
     "output_type": "stream",
     "text": [
      "[Stage 47274:>                                                      (0 + 8) / 8]\r"
     ]
    },
    {
     "name": "stdout",
     "output_type": "stream",
     "text": [
      "AUC ROC: 0.9952456898620243\n",
      "Accuracy: 0.9910452097171841\n",
      "Precision: 0.12270977675134719\n",
      "Recall: 0.9943855271366189\n",
      "F1-score: 0.21846090591379427\n"
     ]
    },
    {
     "name": "stderr",
     "output_type": "stream",
     "text": [
      "\r",
      "[Stage 47274:======>                                                (1 + 7) / 8]\r",
      "\r",
      "                                                                                \r"
     ]
    }
   ],
   "source": [
    "# Predict on the test dataset\n",
    "predictions = best_model.transform(test_df)\n",
    "\n",
    "# Calculate metrics\n",
    "auc_roc, accuracy, precision, recall, f1_score = compute_metrics(predictions)\n",
    "\n",
    "# Save data in to the array\n",
    "model_accuracy.append(accuracy)\n",
    "model_precision.append(precision)\n",
    "model_recall.append(recall)\n",
    "model_f1.append(f1_score)\n",
    "\n",
    "# Print the value evaluation\n",
    "print(\"AUC ROC:\", auc_roc)\n",
    "print(\"Accuracy:\", accuracy)\n",
    "print(\"Precision:\", precision)\n",
    "print(\"Recall:\", recall)\n",
    "print(\"F1-score:\", f1_score)"
   ]
  },
  {
   "cell_type": "code",
   "execution_count": 37,
   "metadata": {
    "colab": {
     "base_uri": "https://localhost:8080/"
    },
    "id": "PZTVwXLoCCQc",
    "outputId": "b02a45eb-b42c-47ac-e13e-c3b7745a2c93"
   },
   "outputs": [
    {
     "name": "stderr",
     "output_type": "stream",
     "text": [
      "[Stage 47297:==============================>                       (9 + 7) / 16]\r"
     ]
    },
    {
     "name": "stdout",
     "output_type": "stream",
     "text": [
      "AUC ROC: 1.0\n",
      "Accuracy: 1.0\n",
      "Precision: 1.0\n",
      "Recall: 1.0\n",
      "F1-score: 1.0\n"
     ]
    },
    {
     "name": "stderr",
     "output_type": "stream",
     "text": [
      "\r",
      "                                                                                \r"
     ]
    }
   ],
   "source": [
    "# Predict on the train dataset\n",
    "predictions = best_model.transform(df_undersampling_1_1)\n",
    "\n",
    "# Calculate metrics\n",
    "auc_roc, accuracy, precision, recall, f1_score = compute_metrics(predictions)\n",
    "\n",
    "# Save data in to the array\n",
    "model_accuracy_train.append(accuracy)\n",
    "model_precision_train.append(precision)\n",
    "model_recall_train.append(recall)\n",
    "model_f1_train.append(f1_score)\n",
    "\n",
    "# Print the value evaluation\n",
    "print(\"AUC ROC:\", auc_roc)\n",
    "print(\"Accuracy:\", accuracy)\n",
    "print(\"Precision:\", precision)\n",
    "print(\"Recall:\", recall)\n",
    "print(\"F1-score:\", f1_score)"
   ]
  },
  {
   "cell_type": "markdown",
   "metadata": {
    "id": "OI0U-OmRnjvC"
   },
   "source": [
    "# **Summarize the result**"
   ]
  },
  {
   "cell_type": "markdown",
   "metadata": {
    "id": "3UGjKPyVqB3o"
   },
   "source": [
    "**1. Result on the test dataset**"
   ]
  },
  {
   "cell_type": "code",
   "execution_count": 38,
   "metadata": {
    "colab": {
     "base_uri": "https://localhost:8080/",
     "height": 255
    },
    "id": "UDtUpe1Hnr4k",
    "outputId": "a306d303-5966-40ee-dcba-04bddc8c8777"
   },
   "outputs": [
    {
     "data": {
      "text/html": [
       "<div>\n",
       "<style scoped>\n",
       "    .dataframe tbody tr th:only-of-type {\n",
       "        vertical-align: middle;\n",
       "    }\n",
       "\n",
       "    .dataframe tbody tr th {\n",
       "        vertical-align: top;\n",
       "    }\n",
       "\n",
       "    .dataframe thead th {\n",
       "        text-align: right;\n",
       "    }\n",
       "</style>\n",
       "<table border=\"1\" class=\"dataframe\">\n",
       "  <thead>\n",
       "    <tr style=\"text-align: right;\">\n",
       "      <th></th>\n",
       "      <th>Model</th>\n",
       "      <th>accuracy</th>\n",
       "      <th>precision</th>\n",
       "      <th>recall</th>\n",
       "      <th>f1-score</th>\n",
       "    </tr>\n",
       "  </thead>\n",
       "  <tbody>\n",
       "    <tr>\n",
       "      <th>0</th>\n",
       "      <td>Decision Tree</td>\n",
       "      <td>0.991096</td>\n",
       "      <td>0.123502</td>\n",
       "      <td>0.996257</td>\n",
       "      <td>0.219761</td>\n",
       "    </tr>\n",
       "    <tr>\n",
       "      <th>1</th>\n",
       "      <td>Support Vector Machine</td>\n",
       "      <td>0.97771</td>\n",
       "      <td>0.043773</td>\n",
       "      <td>0.801622</td>\n",
       "      <td>0.083013</td>\n",
       "    </tr>\n",
       "    <tr>\n",
       "      <th>2</th>\n",
       "      <td>Naive Bayes</td>\n",
       "      <td>0.626732</td>\n",
       "      <td>0.002871</td>\n",
       "      <td>0.8534</td>\n",
       "      <td>0.005722</td>\n",
       "    </tr>\n",
       "    <tr>\n",
       "      <th>3</th>\n",
       "      <td>Logistic Regression</td>\n",
       "      <td>0.964103</td>\n",
       "      <td>0.030141</td>\n",
       "      <td>0.88272</td>\n",
       "      <td>0.058292</td>\n",
       "    </tr>\n",
       "    <tr>\n",
       "      <th>4</th>\n",
       "      <td>Random Forest</td>\n",
       "      <td>0.990368</td>\n",
       "      <td>0.115287</td>\n",
       "      <td>0.996881</td>\n",
       "      <td>0.206674</td>\n",
       "    </tr>\n",
       "    <tr>\n",
       "      <th>5</th>\n",
       "      <td>Gradient Boosting Trees</td>\n",
       "      <td>0.991045</td>\n",
       "      <td>0.12271</td>\n",
       "      <td>0.994386</td>\n",
       "      <td>0.218461</td>\n",
       "    </tr>\n",
       "  </tbody>\n",
       "</table>\n",
       "</div>"
      ],
      "text/plain": [
       "                     Model  accuracy precision    recall  f1-score\n",
       "0            Decision Tree  0.991096  0.123502  0.996257  0.219761\n",
       "1   Support Vector Machine   0.97771  0.043773  0.801622  0.083013\n",
       "2              Naive Bayes  0.626732  0.002871    0.8534  0.005722\n",
       "3      Logistic Regression  0.964103  0.030141   0.88272  0.058292\n",
       "4            Random Forest  0.990368  0.115287  0.996881  0.206674\n",
       "5  Gradient Boosting Trees  0.991045   0.12271  0.994386  0.218461"
      ]
     },
     "execution_count": 38,
     "metadata": {},
     "output_type": "execute_result"
    }
   ],
   "source": [
    "# Result on the test dataset\n",
    "name = [\"Decision Tree\", \"Support Vector Machine\",\"Naive Bayes\", \"Logistic Regression\",\"Random Forest\", \"Gradient Boosting Trees\"]\n",
    "model = pd.DataFrame(data=[name,\n",
    "                   model_accuracy,\n",
    "                   model_precision,\n",
    "                   model_recall,\n",
    "                   model_f1]).T\n",
    "model.columns = ['Model', 'accuracy',\n",
    "                 'precision', 'recall', 'f1-score']\n",
    "model.sort_index(axis=0, level=None, ascending=True, inplace=False, kind='quicksort',\n",
    "                                  na_position='last', sort_remaining=True, ignore_index=False, key=None)"
   ]
  },
  {
   "cell_type": "markdown",
   "metadata": {
    "id": "JaELNQn7qGO3"
   },
   "source": [
    "**2. Result on the train dataset**"
   ]
  },
  {
   "cell_type": "code",
   "execution_count": 39,
   "metadata": {
    "colab": {
     "base_uri": "https://localhost:8080/",
     "height": 238
    },
    "id": "qlqZOEFxn3wk",
    "outputId": "f8789782-38f4-42c0-96f3-f2269b27a3bd"
   },
   "outputs": [
    {
     "data": {
      "text/html": [
       "<div>\n",
       "<style scoped>\n",
       "    .dataframe tbody tr th:only-of-type {\n",
       "        vertical-align: middle;\n",
       "    }\n",
       "\n",
       "    .dataframe tbody tr th {\n",
       "        vertical-align: top;\n",
       "    }\n",
       "\n",
       "    .dataframe thead th {\n",
       "        text-align: right;\n",
       "    }\n",
       "</style>\n",
       "<table border=\"1\" class=\"dataframe\">\n",
       "  <thead>\n",
       "    <tr style=\"text-align: right;\">\n",
       "      <th></th>\n",
       "      <th>Model</th>\n",
       "      <th>accuracy</th>\n",
       "      <th>precision</th>\n",
       "      <th>recall</th>\n",
       "      <th>f1-socre</th>\n",
       "    </tr>\n",
       "  </thead>\n",
       "  <tbody>\n",
       "    <tr>\n",
       "      <th>0</th>\n",
       "      <td>Decision Tree</td>\n",
       "      <td>1.0</td>\n",
       "      <td>1.0</td>\n",
       "      <td>1.0</td>\n",
       "      <td>1.0</td>\n",
       "    </tr>\n",
       "    <tr>\n",
       "      <th>1</th>\n",
       "      <td>Support Vector Machine</td>\n",
       "      <td>0.884896</td>\n",
       "      <td>0.975205</td>\n",
       "      <td>0.791377</td>\n",
       "      <td>0.873726</td>\n",
       "    </tr>\n",
       "    <tr>\n",
       "      <th>2</th>\n",
       "      <td>Naive Bayes</td>\n",
       "      <td>0.738733</td>\n",
       "      <td>0.694492</td>\n",
       "      <td>0.858396</td>\n",
       "      <td>0.767794</td>\n",
       "    </tr>\n",
       "    <tr>\n",
       "      <th>3</th>\n",
       "      <td>Logistic Regression</td>\n",
       "      <td>0.917479</td>\n",
       "      <td>0.961886</td>\n",
       "      <td>0.870499</td>\n",
       "      <td>0.913914</td>\n",
       "    </tr>\n",
       "    <tr>\n",
       "      <th>4</th>\n",
       "      <td>Random Forest</td>\n",
       "      <td>0.999391</td>\n",
       "      <td>0.999395</td>\n",
       "      <td>0.999395</td>\n",
       "      <td>0.999395</td>\n",
       "    </tr>\n",
       "    <tr>\n",
       "      <th>5</th>\n",
       "      <td>Gradient Boosting Trees</td>\n",
       "      <td>1.0</td>\n",
       "      <td>1.0</td>\n",
       "      <td>1.0</td>\n",
       "      <td>1.0</td>\n",
       "    </tr>\n",
       "  </tbody>\n",
       "</table>\n",
       "</div>"
      ],
      "text/plain": [
       "                     Model  accuracy precision    recall  f1-socre\n",
       "0            Decision Tree       1.0       1.0       1.0       1.0\n",
       "1   Support Vector Machine  0.884896  0.975205  0.791377  0.873726\n",
       "2              Naive Bayes  0.738733  0.694492  0.858396  0.767794\n",
       "3      Logistic Regression  0.917479  0.961886  0.870499  0.913914\n",
       "4            Random Forest  0.999391  0.999395  0.999395  0.999395\n",
       "5  Gradient Boosting Trees       1.0       1.0       1.0       1.0"
      ]
     },
     "execution_count": 39,
     "metadata": {},
     "output_type": "execute_result"
    }
   ],
   "source": [
    "# Result on the train dataset\n",
    "name = [\"Decision Tree\", \"Support Vector Machine\",\"Naive Bayes\", \"Logistic Regression\",\"Random Forest\", \"Gradient Boosting Trees\"]\n",
    "model = pd.DataFrame(data=[name,\n",
    "                   model_accuracy_train,\n",
    "                   model_precision_train,\n",
    "                   model_recall_train,\n",
    "                   model_f1_train]).T\n",
    "model.columns = ['Model', 'accuracy',\n",
    "                 'precision', 'recall', 'f1-socre']\n",
    "model.sort_index(axis=0, level=None, ascending=True, inplace=False, kind='quicksort',\n",
    "                                  na_position='last', sort_remaining=True, ignore_index=False, key=None)"
   ]
  },
  {
   "cell_type": "code",
   "execution_count": null,
   "metadata": {},
   "outputs": [],
   "source": []
  }
 ],
 "metadata": {
  "colab": {
   "provenance": []
  },
  "kernelspec": {
   "display_name": "Python 3 (ipykernel)",
   "language": "python",
   "name": "python3"
  },
  "language_info": {
   "codemirror_mode": {
    "name": "ipython",
    "version": 3
   },
   "file_extension": ".py",
   "mimetype": "text/x-python",
   "name": "python",
   "nbconvert_exporter": "python",
   "pygments_lexer": "ipython3",
   "version": "3.11.7"
  }
 },
 "nbformat": 4,
 "nbformat_minor": 1
}
